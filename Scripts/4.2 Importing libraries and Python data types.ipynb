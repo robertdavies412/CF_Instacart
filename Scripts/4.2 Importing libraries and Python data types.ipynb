{
 "cells": [
  {
   "cell_type": "markdown",
   "id": "0107d55f",
   "metadata": {},
   "source": [
    "# Table of Contents\n",
    "## 1. Importing libraries\n",
    "## 2. Reviewing data types"
   ]
  },
  {
   "cell_type": "markdown",
   "id": "4eb16a29",
   "metadata": {},
   "source": [
    "# 1. Importing libraries"
   ]
  },
  {
   "cell_type": "code",
   "execution_count": 1,
   "id": "a1b54787",
   "metadata": {},
   "outputs": [],
   "source": [
    "# Import libraries\n",
    "import pandas as pd\n",
    "import numpy as np\n",
    "import os"
   ]
  },
  {
   "cell_type": "markdown",
   "id": "d8096540",
   "metadata": {},
   "source": [
    "# 2. Data types"
   ]
  },
  {
   "cell_type": "code",
   "execution_count": 2,
   "id": "8c95f17a",
   "metadata": {},
   "outputs": [],
   "source": [
    "x = 50"
   ]
  },
  {
   "cell_type": "code",
   "execution_count": 3,
   "id": "a8300cd6",
   "metadata": {},
   "outputs": [
    {
     "data": {
      "text/plain": [
       "100"
      ]
     },
     "execution_count": 3,
     "metadata": {},
     "output_type": "execute_result"
    }
   ],
   "source": [
    "x + 50"
   ]
  },
  {
   "cell_type": "code",
   "execution_count": 4,
   "id": "ae022717",
   "metadata": {},
   "outputs": [],
   "source": [
    "x = x + 10"
   ]
  },
  {
   "cell_type": "code",
   "execution_count": 5,
   "id": "ea06f9da",
   "metadata": {},
   "outputs": [],
   "source": [
    "y = 40"
   ]
  },
  {
   "cell_type": "code",
   "execution_count": 6,
   "id": "2a258280",
   "metadata": {},
   "outputs": [
    {
     "data": {
      "text/plain": [
       "100"
      ]
     },
     "execution_count": 6,
     "metadata": {},
     "output_type": "execute_result"
    }
   ],
   "source": [
    "x + y"
   ]
  },
  {
   "cell_type": "code",
   "execution_count": 7,
   "id": "fe5013a0",
   "metadata": {},
   "outputs": [
    {
     "data": {
      "text/plain": [
       "100"
      ]
     },
     "execution_count": 7,
     "metadata": {},
     "output_type": "execute_result"
    }
   ],
   "source": [
    "160 - x"
   ]
  },
  {
   "cell_type": "code",
   "execution_count": 8,
   "id": "73c7708b",
   "metadata": {},
   "outputs": [],
   "source": [
    "x = 6.75"
   ]
  },
  {
   "cell_type": "code",
   "execution_count": 9,
   "id": "98eecaee",
   "metadata": {},
   "outputs": [],
   "source": [
    "y = 1.35"
   ]
  },
  {
   "cell_type": "code",
   "execution_count": 10,
   "id": "93fef5fe",
   "metadata": {},
   "outputs": [
    {
     "data": {
      "text/plain": [
       "5.0"
      ]
     },
     "execution_count": 10,
     "metadata": {},
     "output_type": "execute_result"
    }
   ],
   "source": [
    "x / y"
   ]
  },
  {
   "cell_type": "code",
   "execution_count": 11,
   "id": "fa277bfb",
   "metadata": {},
   "outputs": [],
   "source": [
    "a = 'To'"
   ]
  },
  {
   "cell_type": "code",
   "execution_count": 12,
   "id": "4ca78301",
   "metadata": {},
   "outputs": [],
   "source": [
    "b = 'day'"
   ]
  },
  {
   "cell_type": "code",
   "execution_count": 13,
   "id": "e53542c3",
   "metadata": {},
   "outputs": [
    {
     "data": {
      "text/plain": [
       "'Today'"
      ]
     },
     "execution_count": 13,
     "metadata": {},
     "output_type": "execute_result"
    }
   ],
   "source": [
    "a + b"
   ]
  },
  {
   "cell_type": "code",
   "execution_count": 14,
   "id": "799d21a5",
   "metadata": {},
   "outputs": [],
   "source": [
    "c = 'I woke up at 8am. '"
   ]
  },
  {
   "cell_type": "code",
   "execution_count": 15,
   "id": "d355a482",
   "metadata": {},
   "outputs": [],
   "source": [
    "d = 'Then I took a shower and had breakfast.'"
   ]
  },
  {
   "cell_type": "code",
   "execution_count": 16,
   "id": "1f19b3c8",
   "metadata": {},
   "outputs": [
    {
     "data": {
      "text/plain": [
       "'I woke up at 8am. Then I took a shower and had breakfast.'"
      ]
     },
     "execution_count": 16,
     "metadata": {},
     "output_type": "execute_result"
    }
   ],
   "source": [
    "c + d"
   ]
  },
  {
   "cell_type": "code",
   "execution_count": 17,
   "id": "a3febd5d",
   "metadata": {},
   "outputs": [],
   "source": [
    "n = 'apple'"
   ]
  },
  {
   "cell_type": "code",
   "execution_count": 18,
   "id": "4be8ad29",
   "metadata": {},
   "outputs": [
    {
     "data": {
      "text/plain": [
       "'appleappleappleappleappleappleappleappleappleappleappleappleappleappleappleappleappleappleappleappleappleappleappleappleappleappleappleappleappleappleappleappleappleappleappleappleappleappleappleappleappleappleappleappleappleappleappleappleappleappleappleappleappleappleappleappleappleappleappleappleappleappleappleappleappleappleappleappleappleappleappleappleappleappleappleappleappleappleappleappleappleappleappleappleappleappleappleappleappleappleappleappleappleappleappleappleappleappleappleapple'"
      ]
     },
     "execution_count": 18,
     "metadata": {},
     "output_type": "execute_result"
    }
   ],
   "source": [
    "n * 100"
   ]
  }
 ],
 "metadata": {
  "kernelspec": {
   "display_name": "Python 3 (ipykernel)",
   "language": "python",
   "name": "python3"
  },
  "language_info": {
   "codemirror_mode": {
    "name": "ipython",
    "version": 3
   },
   "file_extension": ".py",
   "mimetype": "text/x-python",
   "name": "python",
   "nbconvert_exporter": "python",
   "pygments_lexer": "ipython3",
   "version": "3.11.3"
  }
 },
 "nbformat": 4,
 "nbformat_minor": 5
}
