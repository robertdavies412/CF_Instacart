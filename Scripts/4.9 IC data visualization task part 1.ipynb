{
 "cells": [
  {
   "cell_type": "markdown",
   "id": "ea406312",
   "metadata": {},
   "source": [
    "# Table of Contents\n",
    "## Step 3. Importing libraries and data\n",
    "## Step 4. Data wrangling\n",
    "## Step 5. Data quality and consistency checks\n",
    "## Step 6 Combine customer data with the rest of Instacart data\n",
    "## Step 8. Export the merged dataframe"
   ]
  },
  {
   "cell_type": "markdown",
   "id": "e6c04358",
   "metadata": {},
   "source": [
    "# Step 3. Importing libraries and data"
   ]
  },
  {
   "cell_type": "code",
   "execution_count": 1,
   "id": "d2b0f7e8",
   "metadata": {},
   "outputs": [],
   "source": [
    "# Import libraries\n",
    "\n",
    "import pandas as pd\n",
    "import numpy as np\n",
    "import os\n",
    "import matplotlib.pyplot as plt\n",
    "import seaborn as sns\n",
    "import scipy"
   ]
  },
  {
   "cell_type": "code",
   "execution_count": 2,
   "id": "ff9169da",
   "metadata": {},
   "outputs": [],
   "source": [
    "# Create shortcut to import files from project folder\n",
    "\n",
    "path = r'C:\\Users\\radav\\OneDrive\\Documents\\Career Foundry\\Data Analytics\\Immersion\\Achievement 4 Python Fundamentals\\Instacart Basket Analysis'"
   ]
  },
  {
   "cell_type": "code",
   "execution_count": 3,
   "id": "ab4e9dc9",
   "metadata": {},
   "outputs": [],
   "source": [
    "# Import customers file\n",
    "\n",
    "df = pd.read_csv(os.path.join(path, '02 Data', 'Original Data', 'customers.csv'), index_col = False)"
   ]
  },
  {
   "cell_type": "markdown",
   "id": "bf463ea3",
   "metadata": {},
   "source": [
    "# Step 4. Data wrangling"
   ]
  },
  {
   "cell_type": "code",
   "execution_count": 4,
   "id": "5bcd3ab6",
   "metadata": {},
   "outputs": [
    {
     "data": {
      "text/plain": [
       "(206209, 10)"
      ]
     },
     "execution_count": 4,
     "metadata": {},
     "output_type": "execute_result"
    }
   ],
   "source": [
    "# Check customers dataframe\n",
    "\n",
    "df.shape"
   ]
  },
  {
   "cell_type": "code",
   "execution_count": 5,
   "id": "9ba6472b",
   "metadata": {},
   "outputs": [
    {
     "data": {
      "text/html": [
       "<div>\n",
       "<style scoped>\n",
       "    .dataframe tbody tr th:only-of-type {\n",
       "        vertical-align: middle;\n",
       "    }\n",
       "\n",
       "    .dataframe tbody tr th {\n",
       "        vertical-align: top;\n",
       "    }\n",
       "\n",
       "    .dataframe thead th {\n",
       "        text-align: right;\n",
       "    }\n",
       "</style>\n",
       "<table border=\"1\" class=\"dataframe\">\n",
       "  <thead>\n",
       "    <tr style=\"text-align: right;\">\n",
       "      <th></th>\n",
       "      <th>user_id</th>\n",
       "      <th>First Name</th>\n",
       "      <th>Surnam</th>\n",
       "      <th>Gender</th>\n",
       "      <th>STATE</th>\n",
       "      <th>Age</th>\n",
       "      <th>date_joined</th>\n",
       "      <th>n_dependants</th>\n",
       "      <th>fam_status</th>\n",
       "      <th>income</th>\n",
       "    </tr>\n",
       "  </thead>\n",
       "  <tbody>\n",
       "    <tr>\n",
       "      <th>0</th>\n",
       "      <td>26711</td>\n",
       "      <td>Deborah</td>\n",
       "      <td>Esquivel</td>\n",
       "      <td>Female</td>\n",
       "      <td>Missouri</td>\n",
       "      <td>48</td>\n",
       "      <td>1/1/2017</td>\n",
       "      <td>3</td>\n",
       "      <td>married</td>\n",
       "      <td>165665</td>\n",
       "    </tr>\n",
       "    <tr>\n",
       "      <th>1</th>\n",
       "      <td>33890</td>\n",
       "      <td>Patricia</td>\n",
       "      <td>Hart</td>\n",
       "      <td>Female</td>\n",
       "      <td>New Mexico</td>\n",
       "      <td>36</td>\n",
       "      <td>1/1/2017</td>\n",
       "      <td>0</td>\n",
       "      <td>single</td>\n",
       "      <td>59285</td>\n",
       "    </tr>\n",
       "    <tr>\n",
       "      <th>2</th>\n",
       "      <td>65803</td>\n",
       "      <td>Kenneth</td>\n",
       "      <td>Farley</td>\n",
       "      <td>Male</td>\n",
       "      <td>Idaho</td>\n",
       "      <td>35</td>\n",
       "      <td>1/1/2017</td>\n",
       "      <td>2</td>\n",
       "      <td>married</td>\n",
       "      <td>99568</td>\n",
       "    </tr>\n",
       "    <tr>\n",
       "      <th>3</th>\n",
       "      <td>125935</td>\n",
       "      <td>Michelle</td>\n",
       "      <td>Hicks</td>\n",
       "      <td>Female</td>\n",
       "      <td>Iowa</td>\n",
       "      <td>40</td>\n",
       "      <td>1/1/2017</td>\n",
       "      <td>0</td>\n",
       "      <td>single</td>\n",
       "      <td>42049</td>\n",
       "    </tr>\n",
       "    <tr>\n",
       "      <th>4</th>\n",
       "      <td>130797</td>\n",
       "      <td>Ann</td>\n",
       "      <td>Gilmore</td>\n",
       "      <td>Female</td>\n",
       "      <td>Maryland</td>\n",
       "      <td>26</td>\n",
       "      <td>1/1/2017</td>\n",
       "      <td>1</td>\n",
       "      <td>married</td>\n",
       "      <td>40374</td>\n",
       "    </tr>\n",
       "  </tbody>\n",
       "</table>\n",
       "</div>"
      ],
      "text/plain": [
       "   user_id First Name    Surnam  Gender       STATE  Age date_joined  \\\n",
       "0    26711    Deborah  Esquivel  Female    Missouri   48    1/1/2017   \n",
       "1    33890   Patricia      Hart  Female  New Mexico   36    1/1/2017   \n",
       "2    65803    Kenneth    Farley    Male       Idaho   35    1/1/2017   \n",
       "3   125935   Michelle     Hicks  Female        Iowa   40    1/1/2017   \n",
       "4   130797        Ann   Gilmore  Female    Maryland   26    1/1/2017   \n",
       "\n",
       "   n_dependants fam_status  income  \n",
       "0             3    married  165665  \n",
       "1             0     single   59285  \n",
       "2             2    married   99568  \n",
       "3             0     single   42049  \n",
       "4             1    married   40374  "
      ]
     },
     "execution_count": 5,
     "metadata": {},
     "output_type": "execute_result"
    }
   ],
   "source": [
    "df.head()"
   ]
  },
  {
   "cell_type": "code",
   "execution_count": 6,
   "id": "34d5c817",
   "metadata": {},
   "outputs": [],
   "source": [
    "# Re-name First Name column to match consistent column heading format\n",
    "\n",
    "df.rename(columns = {'First Name' : 'first_name'}, inplace = True)"
   ]
  },
  {
   "cell_type": "code",
   "execution_count": 7,
   "id": "f86ac886",
   "metadata": {},
   "outputs": [],
   "source": [
    "# Re-name Surnam column to correct spelling\n",
    "\n",
    "df.rename(columns = {'Surnam' : 'surname'}, inplace = True)"
   ]
  },
  {
   "cell_type": "code",
   "execution_count": 8,
   "id": "a58a5197",
   "metadata": {},
   "outputs": [],
   "source": [
    "# Re-name gender column to match consistent column heading format\n",
    "\n",
    "df.rename(columns = {'Gender' : 'gender'}, inplace = True)"
   ]
  },
  {
   "cell_type": "code",
   "execution_count": 9,
   "id": "625b7b7c",
   "metadata": {},
   "outputs": [],
   "source": [
    "# Re-name State column to match consistent column heading format\n",
    "\n",
    "df.rename(columns = {'STATE' : 'state'}, inplace = True)"
   ]
  },
  {
   "cell_type": "code",
   "execution_count": 10,
   "id": "6f86a688",
   "metadata": {},
   "outputs": [],
   "source": [
    "# Re-name Age column to match consistent column heading format\n",
    "\n",
    "df.rename(columns = {'Age' : 'age'}, inplace = True)"
   ]
  },
  {
   "cell_type": "code",
   "execution_count": 11,
   "id": "c7c20dfd",
   "metadata": {},
   "outputs": [],
   "source": [
    "# Re-name n_dependants column to more intuitive name and correct spelling\n",
    "\n",
    "df.rename(columns = {'n_dependants' : 'number_of_dependents'}, inplace = True)"
   ]
  },
  {
   "cell_type": "code",
   "execution_count": 12,
   "id": "195d6ed1",
   "metadata": {},
   "outputs": [
    {
     "data": {
      "text/html": [
       "<div>\n",
       "<style scoped>\n",
       "    .dataframe tbody tr th:only-of-type {\n",
       "        vertical-align: middle;\n",
       "    }\n",
       "\n",
       "    .dataframe tbody tr th {\n",
       "        vertical-align: top;\n",
       "    }\n",
       "\n",
       "    .dataframe thead th {\n",
       "        text-align: right;\n",
       "    }\n",
       "</style>\n",
       "<table border=\"1\" class=\"dataframe\">\n",
       "  <thead>\n",
       "    <tr style=\"text-align: right;\">\n",
       "      <th></th>\n",
       "      <th>user_id</th>\n",
       "      <th>first_name</th>\n",
       "      <th>surname</th>\n",
       "      <th>gender</th>\n",
       "      <th>state</th>\n",
       "      <th>age</th>\n",
       "      <th>date_joined</th>\n",
       "      <th>number_of_dependents</th>\n",
       "      <th>fam_status</th>\n",
       "      <th>income</th>\n",
       "    </tr>\n",
       "  </thead>\n",
       "  <tbody>\n",
       "    <tr>\n",
       "      <th>0</th>\n",
       "      <td>26711</td>\n",
       "      <td>Deborah</td>\n",
       "      <td>Esquivel</td>\n",
       "      <td>Female</td>\n",
       "      <td>Missouri</td>\n",
       "      <td>48</td>\n",
       "      <td>1/1/2017</td>\n",
       "      <td>3</td>\n",
       "      <td>married</td>\n",
       "      <td>165665</td>\n",
       "    </tr>\n",
       "    <tr>\n",
       "      <th>1</th>\n",
       "      <td>33890</td>\n",
       "      <td>Patricia</td>\n",
       "      <td>Hart</td>\n",
       "      <td>Female</td>\n",
       "      <td>New Mexico</td>\n",
       "      <td>36</td>\n",
       "      <td>1/1/2017</td>\n",
       "      <td>0</td>\n",
       "      <td>single</td>\n",
       "      <td>59285</td>\n",
       "    </tr>\n",
       "    <tr>\n",
       "      <th>2</th>\n",
       "      <td>65803</td>\n",
       "      <td>Kenneth</td>\n",
       "      <td>Farley</td>\n",
       "      <td>Male</td>\n",
       "      <td>Idaho</td>\n",
       "      <td>35</td>\n",
       "      <td>1/1/2017</td>\n",
       "      <td>2</td>\n",
       "      <td>married</td>\n",
       "      <td>99568</td>\n",
       "    </tr>\n",
       "    <tr>\n",
       "      <th>3</th>\n",
       "      <td>125935</td>\n",
       "      <td>Michelle</td>\n",
       "      <td>Hicks</td>\n",
       "      <td>Female</td>\n",
       "      <td>Iowa</td>\n",
       "      <td>40</td>\n",
       "      <td>1/1/2017</td>\n",
       "      <td>0</td>\n",
       "      <td>single</td>\n",
       "      <td>42049</td>\n",
       "    </tr>\n",
       "    <tr>\n",
       "      <th>4</th>\n",
       "      <td>130797</td>\n",
       "      <td>Ann</td>\n",
       "      <td>Gilmore</td>\n",
       "      <td>Female</td>\n",
       "      <td>Maryland</td>\n",
       "      <td>26</td>\n",
       "      <td>1/1/2017</td>\n",
       "      <td>1</td>\n",
       "      <td>married</td>\n",
       "      <td>40374</td>\n",
       "    </tr>\n",
       "  </tbody>\n",
       "</table>\n",
       "</div>"
      ],
      "text/plain": [
       "   user_id first_name   surname  gender       state  age date_joined  \\\n",
       "0    26711    Deborah  Esquivel  Female    Missouri   48    1/1/2017   \n",
       "1    33890   Patricia      Hart  Female  New Mexico   36    1/1/2017   \n",
       "2    65803    Kenneth    Farley    Male       Idaho   35    1/1/2017   \n",
       "3   125935   Michelle     Hicks  Female        Iowa   40    1/1/2017   \n",
       "4   130797        Ann   Gilmore  Female    Maryland   26    1/1/2017   \n",
       "\n",
       "   number_of_dependents fam_status  income  \n",
       "0                     3    married  165665  \n",
       "1                     0     single   59285  \n",
       "2                     2    married   99568  \n",
       "3                     0     single   42049  \n",
       "4                     1    married   40374  "
      ]
     },
     "execution_count": 12,
     "metadata": {},
     "output_type": "execute_result"
    }
   ],
   "source": [
    "# Re-check output for column name changes\n",
    "\n",
    "df.head()"
   ]
  },
  {
   "cell_type": "markdown",
   "id": "e17ff25e",
   "metadata": {},
   "source": [
    "# Step 5. Data quality and consistency checks"
   ]
  },
  {
   "cell_type": "code",
   "execution_count": 13,
   "id": "8ffe7148",
   "metadata": {},
   "outputs": [
    {
     "data": {
      "text/plain": [
       "dtype('int64')"
      ]
     },
     "execution_count": 13,
     "metadata": {},
     "output_type": "execute_result"
    }
   ],
   "source": [
    "# Check 'user_id' data type\n",
    "\n",
    "df['user_id'].dtype"
   ]
  },
  {
   "cell_type": "code",
   "execution_count": 14,
   "id": "3818d7f4",
   "metadata": {},
   "outputs": [],
   "source": [
    "# Convert 'user_id' to string\n",
    "\n",
    "df['user_id'] = df['user_id'].astype('str')"
   ]
  },
  {
   "cell_type": "code",
   "execution_count": 15,
   "id": "e25af43e",
   "metadata": {},
   "outputs": [
    {
     "name": "stdout",
     "output_type": "stream",
     "text": [
      "first_name\n"
     ]
    }
   ],
   "source": [
    "# Check for mixed-type data\n",
    "\n",
    "for col in df.columns.tolist():\n",
    "  weird = (df[[col]].applymap(type) != df[[col]].iloc[0].apply(type)).any(axis = 1)\n",
    "  if len (df[weird]) > 0:\n",
    "    print (col)"
   ]
  },
  {
   "cell_type": "code",
   "execution_count": 16,
   "id": "c7e31c7e",
   "metadata": {},
   "outputs": [],
   "source": [
    "# Convert numeric values in 'first_name' column to string\n",
    "\n",
    "df['first_name'] = df['first_name'].astype('str')"
   ]
  },
  {
   "cell_type": "code",
   "execution_count": 17,
   "id": "49e99e48",
   "metadata": {},
   "outputs": [],
   "source": [
    "# Re-check for mixed-type data\n",
    "\n",
    "for col in df.columns.tolist():\n",
    "  weird = (df[[col]].applymap(type) != df[[col]].iloc[0].apply(type)).any(axis = 1)\n",
    "  if len (df[weird]) > 0:\n",
    "    print (col)"
   ]
  },
  {
   "cell_type": "code",
   "execution_count": 18,
   "id": "1ed9a630",
   "metadata": {},
   "outputs": [],
   "source": [
    "# Create duplicates dataframe to identify duplicates in customers dataframe\n",
    "\n",
    "df_dups = df[df.duplicated()]"
   ]
  },
  {
   "cell_type": "code",
   "execution_count": 19,
   "id": "c227d270",
   "metadata": {},
   "outputs": [
    {
     "data": {
      "text/html": [
       "<div>\n",
       "<style scoped>\n",
       "    .dataframe tbody tr th:only-of-type {\n",
       "        vertical-align: middle;\n",
       "    }\n",
       "\n",
       "    .dataframe tbody tr th {\n",
       "        vertical-align: top;\n",
       "    }\n",
       "\n",
       "    .dataframe thead th {\n",
       "        text-align: right;\n",
       "    }\n",
       "</style>\n",
       "<table border=\"1\" class=\"dataframe\">\n",
       "  <thead>\n",
       "    <tr style=\"text-align: right;\">\n",
       "      <th></th>\n",
       "      <th>user_id</th>\n",
       "      <th>first_name</th>\n",
       "      <th>surname</th>\n",
       "      <th>gender</th>\n",
       "      <th>state</th>\n",
       "      <th>age</th>\n",
       "      <th>date_joined</th>\n",
       "      <th>number_of_dependents</th>\n",
       "      <th>fam_status</th>\n",
       "      <th>income</th>\n",
       "    </tr>\n",
       "  </thead>\n",
       "  <tbody>\n",
       "  </tbody>\n",
       "</table>\n",
       "</div>"
      ],
      "text/plain": [
       "Empty DataFrame\n",
       "Columns: [user_id, first_name, surname, gender, state, age, date_joined, number_of_dependents, fam_status, income]\n",
       "Index: []"
      ]
     },
     "execution_count": 19,
     "metadata": {},
     "output_type": "execute_result"
    }
   ],
   "source": [
    "df_dups"
   ]
  },
  {
   "cell_type": "markdown",
   "id": "4805863b",
   "metadata": {},
   "source": [
    "#### No duplicates found in customers file."
   ]
  },
  {
   "cell_type": "code",
   "execution_count": 20,
   "id": "47142cb8",
   "metadata": {},
   "outputs": [
    {
     "data": {
      "text/plain": [
       "user_id                 0\n",
       "first_name              0\n",
       "surname                 0\n",
       "gender                  0\n",
       "state                   0\n",
       "age                     0\n",
       "date_joined             0\n",
       "number_of_dependents    0\n",
       "fam_status              0\n",
       "income                  0\n",
       "dtype: int64"
      ]
     },
     "execution_count": 20,
     "metadata": {},
     "output_type": "execute_result"
    }
   ],
   "source": [
    "# Find missing values in customers dataframe\n",
    "\n",
    "df.isnull().sum()"
   ]
  },
  {
   "cell_type": "markdown",
   "id": "cb5cd050",
   "metadata": {},
   "source": [
    "#### No missing values found in customers file."
   ]
  },
  {
   "cell_type": "code",
   "execution_count": 21,
   "id": "a557d153",
   "metadata": {},
   "outputs": [
    {
     "data": {
      "text/html": [
       "<div>\n",
       "<style scoped>\n",
       "    .dataframe tbody tr th:only-of-type {\n",
       "        vertical-align: middle;\n",
       "    }\n",
       "\n",
       "    .dataframe tbody tr th {\n",
       "        vertical-align: top;\n",
       "    }\n",
       "\n",
       "    .dataframe thead th {\n",
       "        text-align: right;\n",
       "    }\n",
       "</style>\n",
       "<table border=\"1\" class=\"dataframe\">\n",
       "  <thead>\n",
       "    <tr style=\"text-align: right;\">\n",
       "      <th></th>\n",
       "      <th>age</th>\n",
       "      <th>number_of_dependents</th>\n",
       "      <th>income</th>\n",
       "    </tr>\n",
       "  </thead>\n",
       "  <tbody>\n",
       "    <tr>\n",
       "      <th>count</th>\n",
       "      <td>206209.000000</td>\n",
       "      <td>206209.000000</td>\n",
       "      <td>206209.000000</td>\n",
       "    </tr>\n",
       "    <tr>\n",
       "      <th>mean</th>\n",
       "      <td>49.501646</td>\n",
       "      <td>1.499823</td>\n",
       "      <td>94632.852548</td>\n",
       "    </tr>\n",
       "    <tr>\n",
       "      <th>std</th>\n",
       "      <td>18.480962</td>\n",
       "      <td>1.118433</td>\n",
       "      <td>42473.786988</td>\n",
       "    </tr>\n",
       "    <tr>\n",
       "      <th>min</th>\n",
       "      <td>18.000000</td>\n",
       "      <td>0.000000</td>\n",
       "      <td>25903.000000</td>\n",
       "    </tr>\n",
       "    <tr>\n",
       "      <th>25%</th>\n",
       "      <td>33.000000</td>\n",
       "      <td>0.000000</td>\n",
       "      <td>59874.000000</td>\n",
       "    </tr>\n",
       "    <tr>\n",
       "      <th>50%</th>\n",
       "      <td>49.000000</td>\n",
       "      <td>1.000000</td>\n",
       "      <td>93547.000000</td>\n",
       "    </tr>\n",
       "    <tr>\n",
       "      <th>75%</th>\n",
       "      <td>66.000000</td>\n",
       "      <td>3.000000</td>\n",
       "      <td>124244.000000</td>\n",
       "    </tr>\n",
       "    <tr>\n",
       "      <th>max</th>\n",
       "      <td>81.000000</td>\n",
       "      <td>3.000000</td>\n",
       "      <td>593901.000000</td>\n",
       "    </tr>\n",
       "  </tbody>\n",
       "</table>\n",
       "</div>"
      ],
      "text/plain": [
       "                 age  number_of_dependents         income\n",
       "count  206209.000000         206209.000000  206209.000000\n",
       "mean       49.501646              1.499823   94632.852548\n",
       "std        18.480962              1.118433   42473.786988\n",
       "min        18.000000              0.000000   25903.000000\n",
       "25%        33.000000              0.000000   59874.000000\n",
       "50%        49.000000              1.000000   93547.000000\n",
       "75%        66.000000              3.000000  124244.000000\n",
       "max        81.000000              3.000000  593901.000000"
      ]
     },
     "execution_count": 21,
     "metadata": {},
     "output_type": "execute_result"
    }
   ],
   "source": [
    "# Run the describe function on the dataframe\n",
    "\n",
    "df.describe()"
   ]
  },
  {
   "cell_type": "markdown",
   "id": "46ca1316",
   "metadata": {},
   "source": [
    "#### All of the data looks reasonable for each numeric column. For example, total counts are accurate and min, max and mean values are reasonable."
   ]
  },
  {
   "cell_type": "code",
   "execution_count": 22,
   "id": "bdf8cb2b",
   "metadata": {},
   "outputs": [],
   "source": [
    "# Re-name dataframe\n",
    "\n",
    "df_cust_clean = df"
   ]
  },
  {
   "cell_type": "code",
   "execution_count": 23,
   "id": "d8656df6",
   "metadata": {},
   "outputs": [],
   "source": [
    "# Export the clean customers file in pickle format to keep a record\n",
    "\n",
    "df_cust_clean.to_pickle(os.path.join(path, '02 Data','Prepared Data', 'customers_clean.pkl'))"
   ]
  },
  {
   "cell_type": "markdown",
   "id": "28c0d43d",
   "metadata": {},
   "source": [
    "# Step 6 Combine customer data with the rest of Instacart data"
   ]
  },
  {
   "cell_type": "code",
   "execution_count": 24,
   "id": "70c7458d",
   "metadata": {},
   "outputs": [],
   "source": [
    "# Import latest orders_products working file\n",
    "\n",
    "df_ords_prods = pd.read_pickle(os.path.join(path, '02 Data', 'Prepared Data', 'orders_products_new_flags.pkl'))"
   ]
  },
  {
   "cell_type": "code",
   "execution_count": 25,
   "id": "4f6b74cc",
   "metadata": {},
   "outputs": [
    {
     "data": {
      "text/plain": [
       "(32404859, 23)"
      ]
     },
     "execution_count": 25,
     "metadata": {},
     "output_type": "execute_result"
    }
   ],
   "source": [
    "# Check ords_prods dataframe\n",
    "\n",
    "df_ords_prods.shape"
   ]
  },
  {
   "cell_type": "code",
   "execution_count": 26,
   "id": "3789877a",
   "metadata": {},
   "outputs": [
    {
     "data": {
      "text/html": [
       "<div>\n",
       "<style scoped>\n",
       "    .dataframe tbody tr th:only-of-type {\n",
       "        vertical-align: middle;\n",
       "    }\n",
       "\n",
       "    .dataframe tbody tr th {\n",
       "        vertical-align: top;\n",
       "    }\n",
       "\n",
       "    .dataframe thead th {\n",
       "        text-align: right;\n",
       "    }\n",
       "</style>\n",
       "<table border=\"1\" class=\"dataframe\">\n",
       "  <thead>\n",
       "    <tr style=\"text-align: right;\">\n",
       "      <th></th>\n",
       "      <th>order_id</th>\n",
       "      <th>user_id</th>\n",
       "      <th>order_number</th>\n",
       "      <th>orders_day_of_week</th>\n",
       "      <th>order_hour_of_day</th>\n",
       "      <th>days_since_prior_order</th>\n",
       "      <th>customer_status</th>\n",
       "      <th>product_id</th>\n",
       "      <th>add_to_cart_order</th>\n",
       "      <th>reordered</th>\n",
       "      <th>...</th>\n",
       "      <th>prices</th>\n",
       "      <th>price_range_loc</th>\n",
       "      <th>busiest_days</th>\n",
       "      <th>busiest_period_of_day</th>\n",
       "      <th>max_order</th>\n",
       "      <th>loyalty_flag</th>\n",
       "      <th>avg_product_price</th>\n",
       "      <th>spending_flag</th>\n",
       "      <th>median_days_since_prior_order</th>\n",
       "      <th>order_frequency_flag</th>\n",
       "    </tr>\n",
       "  </thead>\n",
       "  <tbody>\n",
       "    <tr>\n",
       "      <th>0</th>\n",
       "      <td>2539329</td>\n",
       "      <td>1</td>\n",
       "      <td>1</td>\n",
       "      <td>2</td>\n",
       "      <td>8</td>\n",
       "      <td>NaN</td>\n",
       "      <td>New</td>\n",
       "      <td>196</td>\n",
       "      <td>1</td>\n",
       "      <td>0</td>\n",
       "      <td>...</td>\n",
       "      <td>9.0</td>\n",
       "      <td>Mid-range product</td>\n",
       "      <td>Regular day</td>\n",
       "      <td>Fewest orders</td>\n",
       "      <td>10</td>\n",
       "      <td>New customer</td>\n",
       "      <td>6.367797</td>\n",
       "      <td>Low spender</td>\n",
       "      <td>20.5</td>\n",
       "      <td>Non-frequent customer</td>\n",
       "    </tr>\n",
       "    <tr>\n",
       "      <th>1</th>\n",
       "      <td>2398795</td>\n",
       "      <td>1</td>\n",
       "      <td>2</td>\n",
       "      <td>3</td>\n",
       "      <td>7</td>\n",
       "      <td>15.0</td>\n",
       "      <td>Existing</td>\n",
       "      <td>196</td>\n",
       "      <td>1</td>\n",
       "      <td>1</td>\n",
       "      <td>...</td>\n",
       "      <td>9.0</td>\n",
       "      <td>Mid-range product</td>\n",
       "      <td>Slow day</td>\n",
       "      <td>Fewest orders</td>\n",
       "      <td>10</td>\n",
       "      <td>New customer</td>\n",
       "      <td>6.367797</td>\n",
       "      <td>Low spender</td>\n",
       "      <td>20.5</td>\n",
       "      <td>Non-frequent customer</td>\n",
       "    </tr>\n",
       "    <tr>\n",
       "      <th>2</th>\n",
       "      <td>473747</td>\n",
       "      <td>1</td>\n",
       "      <td>3</td>\n",
       "      <td>3</td>\n",
       "      <td>12</td>\n",
       "      <td>21.0</td>\n",
       "      <td>Existing</td>\n",
       "      <td>196</td>\n",
       "      <td>1</td>\n",
       "      <td>1</td>\n",
       "      <td>...</td>\n",
       "      <td>9.0</td>\n",
       "      <td>Mid-range product</td>\n",
       "      <td>Slow day</td>\n",
       "      <td>Most orders</td>\n",
       "      <td>10</td>\n",
       "      <td>New customer</td>\n",
       "      <td>6.367797</td>\n",
       "      <td>Low spender</td>\n",
       "      <td>20.5</td>\n",
       "      <td>Non-frequent customer</td>\n",
       "    </tr>\n",
       "    <tr>\n",
       "      <th>3</th>\n",
       "      <td>2254736</td>\n",
       "      <td>1</td>\n",
       "      <td>4</td>\n",
       "      <td>4</td>\n",
       "      <td>7</td>\n",
       "      <td>29.0</td>\n",
       "      <td>Existing</td>\n",
       "      <td>196</td>\n",
       "      <td>1</td>\n",
       "      <td>1</td>\n",
       "      <td>...</td>\n",
       "      <td>9.0</td>\n",
       "      <td>Mid-range product</td>\n",
       "      <td>Slow day</td>\n",
       "      <td>Fewest orders</td>\n",
       "      <td>10</td>\n",
       "      <td>New customer</td>\n",
       "      <td>6.367797</td>\n",
       "      <td>Low spender</td>\n",
       "      <td>20.5</td>\n",
       "      <td>Non-frequent customer</td>\n",
       "    </tr>\n",
       "    <tr>\n",
       "      <th>4</th>\n",
       "      <td>431534</td>\n",
       "      <td>1</td>\n",
       "      <td>5</td>\n",
       "      <td>4</td>\n",
       "      <td>15</td>\n",
       "      <td>28.0</td>\n",
       "      <td>Existing</td>\n",
       "      <td>196</td>\n",
       "      <td>1</td>\n",
       "      <td>1</td>\n",
       "      <td>...</td>\n",
       "      <td>9.0</td>\n",
       "      <td>Mid-range product</td>\n",
       "      <td>Slow day</td>\n",
       "      <td>Most orders</td>\n",
       "      <td>10</td>\n",
       "      <td>New customer</td>\n",
       "      <td>6.367797</td>\n",
       "      <td>Low spender</td>\n",
       "      <td>20.5</td>\n",
       "      <td>Non-frequent customer</td>\n",
       "    </tr>\n",
       "  </tbody>\n",
       "</table>\n",
       "<p>5 rows × 23 columns</p>\n",
       "</div>"
      ],
      "text/plain": [
       "   order_id  user_id  order_number  orders_day_of_week  order_hour_of_day  \\\n",
       "0   2539329        1             1                   2                  8   \n",
       "1   2398795        1             2                   3                  7   \n",
       "2    473747        1             3                   3                 12   \n",
       "3   2254736        1             4                   4                  7   \n",
       "4    431534        1             5                   4                 15   \n",
       "\n",
       "   days_since_prior_order customer_status  product_id  add_to_cart_order  \\\n",
       "0                     NaN             New         196                  1   \n",
       "1                    15.0        Existing         196                  1   \n",
       "2                    21.0        Existing         196                  1   \n",
       "3                    29.0        Existing         196                  1   \n",
       "4                    28.0        Existing         196                  1   \n",
       "\n",
       "   reordered  ... prices    price_range_loc  busiest_days  \\\n",
       "0          0  ...    9.0  Mid-range product   Regular day   \n",
       "1          1  ...    9.0  Mid-range product      Slow day   \n",
       "2          1  ...    9.0  Mid-range product      Slow day   \n",
       "3          1  ...    9.0  Mid-range product      Slow day   \n",
       "4          1  ...    9.0  Mid-range product      Slow day   \n",
       "\n",
       "   busiest_period_of_day max_order  loyalty_flag avg_product_price  \\\n",
       "0          Fewest orders        10  New customer          6.367797   \n",
       "1          Fewest orders        10  New customer          6.367797   \n",
       "2            Most orders        10  New customer          6.367797   \n",
       "3          Fewest orders        10  New customer          6.367797   \n",
       "4            Most orders        10  New customer          6.367797   \n",
       "\n",
       "   spending_flag median_days_since_prior_order   order_frequency_flag  \n",
       "0    Low spender                          20.5  Non-frequent customer  \n",
       "1    Low spender                          20.5  Non-frequent customer  \n",
       "2    Low spender                          20.5  Non-frequent customer  \n",
       "3    Low spender                          20.5  Non-frequent customer  \n",
       "4    Low spender                          20.5  Non-frequent customer  \n",
       "\n",
       "[5 rows x 23 columns]"
      ]
     },
     "execution_count": 26,
     "metadata": {},
     "output_type": "execute_result"
    }
   ],
   "source": [
    "df_ords_prods.head()"
   ]
  },
  {
   "cell_type": "code",
   "execution_count": 27,
   "id": "85c63166",
   "metadata": {},
   "outputs": [
    {
     "data": {
      "text/plain": [
       "dtype('int64')"
      ]
     },
     "execution_count": 27,
     "metadata": {},
     "output_type": "execute_result"
    }
   ],
   "source": [
    "# Check 'user_id' data type to use as key\n",
    "\n",
    "df_ords_prods['user_id'].dtype"
   ]
  },
  {
   "cell_type": "code",
   "execution_count": 28,
   "id": "233d7d46",
   "metadata": {},
   "outputs": [],
   "source": [
    "# Convert 'user_id' to string\n",
    "\n",
    "df_ords_prods['user_id'] = df_ords_prods['user_id'].astype('str')"
   ]
  },
  {
   "cell_type": "code",
   "execution_count": 29,
   "id": "ad02bd8f",
   "metadata": {},
   "outputs": [],
   "source": [
    "# Merge df_cust_clean and df_ords_prods dataframes\n",
    "\n",
    "df_merged = df_cust_clean.merge(df_ords_prods, on = 'user_id', indicator = True)"
   ]
  },
  {
   "cell_type": "code",
   "execution_count": 30,
   "id": "cd3a34c2",
   "metadata": {},
   "outputs": [
    {
     "data": {
      "text/plain": [
       "(32404859, 33)"
      ]
     },
     "execution_count": 30,
     "metadata": {},
     "output_type": "execute_result"
    }
   ],
   "source": [
    "# Check the output\n",
    "\n",
    "df_merged.shape"
   ]
  },
  {
   "cell_type": "code",
   "execution_count": 31,
   "id": "2d4cb02f",
   "metadata": {},
   "outputs": [
    {
     "data": {
      "text/html": [
       "<div>\n",
       "<style scoped>\n",
       "    .dataframe tbody tr th:only-of-type {\n",
       "        vertical-align: middle;\n",
       "    }\n",
       "\n",
       "    .dataframe tbody tr th {\n",
       "        vertical-align: top;\n",
       "    }\n",
       "\n",
       "    .dataframe thead th {\n",
       "        text-align: right;\n",
       "    }\n",
       "</style>\n",
       "<table border=\"1\" class=\"dataframe\">\n",
       "  <thead>\n",
       "    <tr style=\"text-align: right;\">\n",
       "      <th></th>\n",
       "      <th>user_id</th>\n",
       "      <th>first_name</th>\n",
       "      <th>surname</th>\n",
       "      <th>gender</th>\n",
       "      <th>state</th>\n",
       "      <th>age</th>\n",
       "      <th>date_joined</th>\n",
       "      <th>number_of_dependents</th>\n",
       "      <th>fam_status</th>\n",
       "      <th>income</th>\n",
       "      <th>...</th>\n",
       "      <th>price_range_loc</th>\n",
       "      <th>busiest_days</th>\n",
       "      <th>busiest_period_of_day</th>\n",
       "      <th>max_order</th>\n",
       "      <th>loyalty_flag</th>\n",
       "      <th>avg_product_price</th>\n",
       "      <th>spending_flag</th>\n",
       "      <th>median_days_since_prior_order</th>\n",
       "      <th>order_frequency_flag</th>\n",
       "      <th>_merge</th>\n",
       "    </tr>\n",
       "  </thead>\n",
       "  <tbody>\n",
       "    <tr>\n",
       "      <th>0</th>\n",
       "      <td>26711</td>\n",
       "      <td>Deborah</td>\n",
       "      <td>Esquivel</td>\n",
       "      <td>Female</td>\n",
       "      <td>Missouri</td>\n",
       "      <td>48</td>\n",
       "      <td>1/1/2017</td>\n",
       "      <td>3</td>\n",
       "      <td>married</td>\n",
       "      <td>165665</td>\n",
       "      <td>...</td>\n",
       "      <td>Mid-range product</td>\n",
       "      <td>Busy day</td>\n",
       "      <td>Most orders</td>\n",
       "      <td>8</td>\n",
       "      <td>New customer</td>\n",
       "      <td>7.988889</td>\n",
       "      <td>Low spender</td>\n",
       "      <td>19.0</td>\n",
       "      <td>Regular customer</td>\n",
       "      <td>both</td>\n",
       "    </tr>\n",
       "    <tr>\n",
       "      <th>1</th>\n",
       "      <td>26711</td>\n",
       "      <td>Deborah</td>\n",
       "      <td>Esquivel</td>\n",
       "      <td>Female</td>\n",
       "      <td>Missouri</td>\n",
       "      <td>48</td>\n",
       "      <td>1/1/2017</td>\n",
       "      <td>3</td>\n",
       "      <td>married</td>\n",
       "      <td>165665</td>\n",
       "      <td>...</td>\n",
       "      <td>Mid-range product</td>\n",
       "      <td>Regular day</td>\n",
       "      <td>Most orders</td>\n",
       "      <td>8</td>\n",
       "      <td>New customer</td>\n",
       "      <td>7.988889</td>\n",
       "      <td>Low spender</td>\n",
       "      <td>19.0</td>\n",
       "      <td>Regular customer</td>\n",
       "      <td>both</td>\n",
       "    </tr>\n",
       "    <tr>\n",
       "      <th>2</th>\n",
       "      <td>26711</td>\n",
       "      <td>Deborah</td>\n",
       "      <td>Esquivel</td>\n",
       "      <td>Female</td>\n",
       "      <td>Missouri</td>\n",
       "      <td>48</td>\n",
       "      <td>1/1/2017</td>\n",
       "      <td>3</td>\n",
       "      <td>married</td>\n",
       "      <td>165665</td>\n",
       "      <td>...</td>\n",
       "      <td>Mid-range product</td>\n",
       "      <td>Busy day</td>\n",
       "      <td>Most orders</td>\n",
       "      <td>8</td>\n",
       "      <td>New customer</td>\n",
       "      <td>7.988889</td>\n",
       "      <td>Low spender</td>\n",
       "      <td>19.0</td>\n",
       "      <td>Regular customer</td>\n",
       "      <td>both</td>\n",
       "    </tr>\n",
       "    <tr>\n",
       "      <th>3</th>\n",
       "      <td>26711</td>\n",
       "      <td>Deborah</td>\n",
       "      <td>Esquivel</td>\n",
       "      <td>Female</td>\n",
       "      <td>Missouri</td>\n",
       "      <td>48</td>\n",
       "      <td>1/1/2017</td>\n",
       "      <td>3</td>\n",
       "      <td>married</td>\n",
       "      <td>165665</td>\n",
       "      <td>...</td>\n",
       "      <td>Mid-range product</td>\n",
       "      <td>Regular day</td>\n",
       "      <td>Most orders</td>\n",
       "      <td>8</td>\n",
       "      <td>New customer</td>\n",
       "      <td>7.988889</td>\n",
       "      <td>Low spender</td>\n",
       "      <td>19.0</td>\n",
       "      <td>Regular customer</td>\n",
       "      <td>both</td>\n",
       "    </tr>\n",
       "    <tr>\n",
       "      <th>4</th>\n",
       "      <td>26711</td>\n",
       "      <td>Deborah</td>\n",
       "      <td>Esquivel</td>\n",
       "      <td>Female</td>\n",
       "      <td>Missouri</td>\n",
       "      <td>48</td>\n",
       "      <td>1/1/2017</td>\n",
       "      <td>3</td>\n",
       "      <td>married</td>\n",
       "      <td>165665</td>\n",
       "      <td>...</td>\n",
       "      <td>Mid-range product</td>\n",
       "      <td>Slow day</td>\n",
       "      <td>Most orders</td>\n",
       "      <td>8</td>\n",
       "      <td>New customer</td>\n",
       "      <td>7.988889</td>\n",
       "      <td>Low spender</td>\n",
       "      <td>19.0</td>\n",
       "      <td>Regular customer</td>\n",
       "      <td>both</td>\n",
       "    </tr>\n",
       "  </tbody>\n",
       "</table>\n",
       "<p>5 rows × 33 columns</p>\n",
       "</div>"
      ],
      "text/plain": [
       "  user_id first_name   surname  gender     state  age date_joined  \\\n",
       "0   26711    Deborah  Esquivel  Female  Missouri   48    1/1/2017   \n",
       "1   26711    Deborah  Esquivel  Female  Missouri   48    1/1/2017   \n",
       "2   26711    Deborah  Esquivel  Female  Missouri   48    1/1/2017   \n",
       "3   26711    Deborah  Esquivel  Female  Missouri   48    1/1/2017   \n",
       "4   26711    Deborah  Esquivel  Female  Missouri   48    1/1/2017   \n",
       "\n",
       "   number_of_dependents fam_status  income  ...    price_range_loc  \\\n",
       "0                     3    married  165665  ...  Mid-range product   \n",
       "1                     3    married  165665  ...  Mid-range product   \n",
       "2                     3    married  165665  ...  Mid-range product   \n",
       "3                     3    married  165665  ...  Mid-range product   \n",
       "4                     3    married  165665  ...  Mid-range product   \n",
       "\n",
       "   busiest_days  busiest_period_of_day  max_order  loyalty_flag  \\\n",
       "0      Busy day            Most orders          8  New customer   \n",
       "1   Regular day            Most orders          8  New customer   \n",
       "2      Busy day            Most orders          8  New customer   \n",
       "3   Regular day            Most orders          8  New customer   \n",
       "4      Slow day            Most orders          8  New customer   \n",
       "\n",
       "  avg_product_price  spending_flag  median_days_since_prior_order  \\\n",
       "0          7.988889    Low spender                           19.0   \n",
       "1          7.988889    Low spender                           19.0   \n",
       "2          7.988889    Low spender                           19.0   \n",
       "3          7.988889    Low spender                           19.0   \n",
       "4          7.988889    Low spender                           19.0   \n",
       "\n",
       "   order_frequency_flag _merge  \n",
       "0      Regular customer   both  \n",
       "1      Regular customer   both  \n",
       "2      Regular customer   both  \n",
       "3      Regular customer   both  \n",
       "4      Regular customer   both  \n",
       "\n",
       "[5 rows x 33 columns]"
      ]
     },
     "execution_count": 31,
     "metadata": {},
     "output_type": "execute_result"
    }
   ],
   "source": [
    "df_merged.head()"
   ]
  },
  {
   "cell_type": "code",
   "execution_count": 32,
   "id": "d3c720d0",
   "metadata": {},
   "outputs": [
    {
     "data": {
      "text/plain": [
       "_merge\n",
       "both          32404859\n",
       "left_only            0\n",
       "right_only           0\n",
       "Name: count, dtype: int64"
      ]
     },
     "execution_count": 32,
     "metadata": {},
     "output_type": "execute_result"
    }
   ],
   "source": [
    "df_merged['_merge'].value_counts()"
   ]
  },
  {
   "cell_type": "code",
   "execution_count": 33,
   "id": "ee33522c",
   "metadata": {},
   "outputs": [
    {
     "data": {
      "text/plain": [
       "user_id                                0\n",
       "first_name                             0\n",
       "surname                                0\n",
       "gender                                 0\n",
       "state                                  0\n",
       "age                                    0\n",
       "date_joined                            0\n",
       "number_of_dependents                   0\n",
       "fam_status                             0\n",
       "income                                 0\n",
       "order_id                               0\n",
       "order_number                           0\n",
       "orders_day_of_week                     0\n",
       "order_hour_of_day                      0\n",
       "days_since_prior_order           2076096\n",
       "customer_status                        0\n",
       "product_id                             0\n",
       "add_to_cart_order                      0\n",
       "reordered                              0\n",
       "product_name                           0\n",
       "aisle_id                               0\n",
       "department_id                          0\n",
       "prices                              5127\n",
       "price_range_loc                        0\n",
       "busiest_days                           0\n",
       "busiest_period_of_day                  0\n",
       "max_order                              0\n",
       "loyalty_flag                           0\n",
       "avg_product_price                      0\n",
       "spending_flag                          0\n",
       "median_days_since_prior_order          5\n",
       "order_frequency_flag                   5\n",
       "_merge                                 0\n",
       "dtype: int64"
      ]
     },
     "execution_count": 33,
     "metadata": {},
     "output_type": "execute_result"
    }
   ],
   "source": [
    "# Check names of all columns in merged dataframe by checking for missing values\n",
    "\n",
    "df_merged.isnull().sum()"
   ]
  },
  {
   "cell_type": "code",
   "execution_count": 34,
   "id": "95a8b7a8",
   "metadata": {},
   "outputs": [
    {
     "data": {
      "text/plain": [
       "2076096"
      ]
     },
     "execution_count": 34,
     "metadata": {},
     "output_type": "execute_result"
    }
   ],
   "source": [
    "# Check the value counts for 'order_number' = 1 to confirm that missing values in days_since_prior_order column relate to customers' first orders where there are no prior orders\n",
    "\n",
    "df_merged['order_number'].value_counts()[1]"
   ]
  },
  {
   "cell_type": "code",
   "execution_count": 35,
   "id": "a839ff88",
   "metadata": {},
   "outputs": [],
   "source": [
    "# Drop '_merge' column\n",
    "\n",
    "df_merged = df_merged.drop(columns = ['_merge'])"
   ]
  },
  {
   "cell_type": "code",
   "execution_count": 36,
   "id": "66a7930a",
   "metadata": {},
   "outputs": [
    {
     "data": {
      "text/plain": [
       "(32404859, 32)"
      ]
     },
     "execution_count": 36,
     "metadata": {},
     "output_type": "execute_result"
    }
   ],
   "source": [
    "# Re-check shape of merged dataframe\n",
    "\n",
    "df_merged.shape"
   ]
  },
  {
   "cell_type": "markdown",
   "id": "a1423ff4",
   "metadata": {},
   "source": [
    "# Step 8. Export the merged dataframe"
   ]
  },
  {
   "cell_type": "code",
   "execution_count": 37,
   "id": "708f64fa",
   "metadata": {},
   "outputs": [],
   "source": [
    "# Export the merged dataframe in pickle format as 'orders_products_customers_combined.pkl'\n",
    "\n",
    "df_merged.to_pickle(os.path.join(path, '02 Data','Prepared Data', 'orders_products_customers_merged.pkl'))"
   ]
  }
 ],
 "metadata": {
  "kernelspec": {
   "display_name": "Python 3 (ipykernel)",
   "language": "python",
   "name": "python3"
  },
  "language_info": {
   "codemirror_mode": {
    "name": "ipython",
    "version": 3
   },
   "file_extension": ".py",
   "mimetype": "text/x-python",
   "name": "python",
   "nbconvert_exporter": "python",
   "pygments_lexer": "ipython3",
   "version": "3.11.3"
  }
 },
 "nbformat": 4,
 "nbformat_minor": 5
}
